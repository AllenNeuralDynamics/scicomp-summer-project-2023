{
 "cells": [
  {
   "cell_type": "markdown",
   "id": "f3b9b807",
   "metadata": {},
   "source": [
    "### Windows User Instruction\n"
   ]
  },
  {
   "cell_type": "markdown",
   "id": "bb37d6bb",
   "metadata": {},
   "source": [
    "\n",
    "    \n",
    "#### Launch DLC GUI\n",
    "\n",
    "    conda activate DEEPLABCUT\n",
    "    python -m deeplabcut\n",
    " "
   ]
  },
  {
   "cell_type": "markdown",
   "id": "b26a97bf",
   "metadata": {},
   "source": [
    "**4. (Admin User) Install Packages**\n",
    "\n",
    "Open the Anaconda Prompt from the start menu, and start installing desired packages. \n",
    "\n",
    "**DeepLabCut**\n",
    "    \n",
    "    # In gitbash\n",
    "    git clone https://github.com/DeepLabCut/DeepLabCut.git\n",
    "    \n",
    "    # In Anaconda prompt\n",
    "    cd DeepLabCut\\conda-environments\n",
    "    conda env create -f DEEPLABCUT.yaml\n",
    "    "
   ]
  },
  {
   "cell_type": "markdown",
   "id": "4f0a5793",
   "metadata": {},
   "source": [
    "\n",
    "**7. (Test User) Test App**\n",
    "\n",
    "```\n",
    "conda activate DEEPLABCUT\n",
    "python -m deeplabcut\n",
    "```\n"
   ]
  },
  {
   "cell_type": "markdown",
   "id": "f760d558",
   "metadata": {},
   "source": [
    "**8. (Admin User) Optimize app launch**\n",
    "\n",
    "```\n",
    "conda activate DEEPLABCUT\n",
    "python -m deeplabcut\n",
    "```"
   ]
  },
  {
   "cell_type": "code",
   "execution_count": null,
   "id": "e75ec00e",
   "metadata": {},
   "outputs": [],
   "source": []
  }
 ],
 "metadata": {
  "kernelspec": {
   "display_name": "Python 3 (ipykernel)",
   "language": "python",
   "name": "python3"
  },
  "language_info": {
   "codemirror_mode": {
    "name": "ipython",
    "version": 3
   },
   "file_extension": ".py",
   "mimetype": "text/x-python",
   "name": "python",
   "nbconvert_exporter": "python",
   "pygments_lexer": "ipython3",
   "version": "3.11.3"
  }
 },
 "nbformat": 4,
 "nbformat_minor": 5
}
