{
 "cells": [
  {
   "cell_type": "markdown",
   "id": "efe4a72f",
   "metadata": {},
   "source": [
    "# DLC Installation on AppStream (Windows)\n",
    "\n",
    "This report instructs how to build a Windows image with DeepLabCut installed. Please follow the [Sleap-Windows-Report](./Sleap-Windows-Report.ipynb) for instructions on installing Sleap on Windows Image as well as a more detailed guide through the image building process for Windows.\n",
    "\n",
    "- [Windows User Instruction](#Windows-User-Instruction)\n",
    "- [Windows Build Image Instruction](#Windows-Build-Image-Instruction)"
   ]
  },
  {
   "cell_type": "markdown",
   "id": "715c1681",
   "metadata": {},
   "source": [
    "\n",
    "## Windows User Instruction\n",
    "\n",
    "### Launch DLC GUI\n",
    "\n",
    "DEEPLABCUT will be the default conda environment in the resulting image, so the users don't have to activate conda environments.\n",
    "\n",
    "    python -m deeplabcut"
   ]
  },
  {
   "attachments": {},
   "cell_type": "markdown",
   "id": "4b5461d4",
   "metadata": {},
   "source": [
    "## Windows Build Image Instruction\n",
    "\n",
    "For a more detailed explanation of each phase, see [Sleap-Windows-Report](./Sleap-Windows-Report.ipynb).\n",
    "\n",
    "### Admin User Install Package Phase\n",
    "\n",
    "    # In gitbash\n",
    "    git clone https://github.com/DeepLabCut/DeepLabCut.git\n",
    "    \n",
    "    # In Anaconda prompt\n",
    "    cd DeepLabCut\\conda-environments\n",
    "    conda env create -f DEEPLABCUT.yaml\n",
    "\n",
    "This installs tensorflow 2.10, cuda-version 11.8, cudatoolkit 11.8.0, and cudnn 8.8.0.121. \n",
    "\n",
    "When adding Anaconda Prompt as an app in Image Assistance, append `& conda activate DEEPLABCUT` to the launch parameters to activate the DLC environment by default.\n",
    "\n",
    "![dlc-app-config.png](attachment:dlc-app-config.png)\n",
    "\n",
    "### Template User Default Settings Phase\n",
    "\n",
    "    \n",
    "**Configure DLC:** Launch DeepLabCut once to let it set up some configuration files (e.g. `.keras`, `.matplotlib`). \n",
    "    \n",
    "    python -m deeplabcut\n",
    "\n",
    "\n",
    "### Test User Testing Phase\n",
    "\n",
    "Run the testscript provided by the DeepLabCut GitHub repo and make sure it runs without errors. You may also verify that the DeepLabCut GUI launches successfully.\n",
    "\n",
    "    # In gitbash\n",
    "    git clone https://github.com/DeepLabCut/DeepLabCut.git\n",
    "    \n",
    "    # In Anaconda prompt\n",
    "    cd C:\\Users\\ImageBuilderTest\\DeepLabCut\n",
    "    python testscript_cli.py\n",
    "    \n",
    "    python -m deeplabcut\n",
    "    \n",
    "### Admin User Optimization Phase\n",
    "\n",
    "(Not sure if this step actually helps improve user instance launch speed) Launch the DeepLabCut GUI so that AppStream can capture the files it needs to optimize. \n",
    "\n",
    "    python -m deeplabcut"
   ]
  }
 ],
 "metadata": {
  "kernelspec": {
   "display_name": "Python 3 (ipykernel)",
   "language": "python",
   "name": "python3"
  },
  "language_info": {
   "codemirror_mode": {
    "name": "ipython",
    "version": 3
   },
   "file_extension": ".py",
   "mimetype": "text/x-python",
   "name": "python",
   "nbconvert_exporter": "python",
   "pygments_lexer": "ipython3",
   "version": "3.11.3"
  }
 },
 "nbformat": 4,
 "nbformat_minor": 5
}
